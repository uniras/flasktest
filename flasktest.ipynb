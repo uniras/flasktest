{
 "cells": [
  {
   "cell_type": "markdown",
   "metadata": {},
   "source": [
    "# モジュールのインストールとURLの取得"
   ]
  },
  {
   "cell_type": "code",
   "execution_count": 14,
   "metadata": {},
   "outputs": [
    {
     "name": "stdout",
     "output_type": "stream",
     "text": [
      "Note: you may need to restart the kernel to use updated packages.\n"
     ]
    }
   ],
   "source": [
    "# flaskのインストール\n",
    "%pip install flask -q"
   ]
  },
  {
   "cell_type": "code",
   "execution_count": 15,
   "metadata": {},
   "outputs": [],
   "source": [
    "# ColabのサーバーURLを取得(Colab以外の環境ではローカルホストを返す)\n",
    "\n",
    "server_port = 5000  # ポート番号\n",
    "\n",
    "try:\n",
    "    from google.colab.output import eval_js  # type: ignore\n",
    "    server_url = eval_js(f\"google.colab.kernel.proxyPort({server_port})\").strip(\"/\")\n",
    "except ImportError:\n",
    "    server_url = f\"http://localhost:{server_port}\"\n"
   ]
  },
  {
   "cell_type": "markdown",
   "metadata": {},
   "source": [
    "# Flaskサーバーの処理を記述"
   ]
  },
  {
   "cell_type": "code",
   "execution_count": 16,
   "metadata": {},
   "outputs": [
    {
     "name": "stdout",
     "output_type": "stream",
     "text": [
      "Overwriting flask_app.py\n"
     ]
    }
   ],
   "source": [
    "%%writefile flask_app.py\n",
    "from flask import Flask\n",
    "\n",
    "app = Flask(__name__)\n",
    "\n",
    "@app.route(\"/\")\n",
    "def hello():\n",
    "    return \"Hello World!\"\n",
    "\n",
    "app.run()"
   ]
  },
  {
   "cell_type": "markdown",
   "metadata": {},
   "source": [
    "# サーバーの(再)起動"
   ]
  },
  {
   "cell_type": "code",
   "execution_count": 17,
   "metadata": {},
   "outputs": [
    {
     "name": "stdout",
     "output_type": "stream",
     "text": [
      "Stopping the previous server...\n",
      "Starting the server...\n",
      "The server is running.\n",
      "URL: http://localhost:5000\n"
     ]
    }
   ],
   "source": [
    "import time\n",
    "\n",
    "# IPythonのユーザー名前空間を取得\n",
    "from IPython import get_ipython  # type: ignore\n",
    "ipython = get_ipython()\n",
    "userns = ipython.user_ns\n",
    "\n",
    "# プラットフォームによってシグナルの種類とPythonコマンドを変更\n",
    "if sys.platform == \"win32\":\n",
    "    termsignal = signal.CTRL_C_EVENT\n",
    "    py_name = \"python\"\n",
    "else:\n",
    "    termsignal = signal.SIGTERM\n",
    "    py_name = \"python3\"\n",
    "\n",
    "# 以前に起動したサーバーを停止\n",
    "if \"server_process\" in userns:\n",
    "    import signal\n",
    "    server_process = userns[\"server_process\"]\n",
    "    if server_process.poll() is None:\n",
    "        print(\"Stopping the previous server...\")\n",
    "        try:\n",
    "            server_process.send_signal(termsignal)\n",
    "            try:\n",
    "                server_process.wait(10)\n",
    "            except subprocess.TimeoutExpired:\n",
    "                server_process.kill()\n",
    "                time.sleep(5)\n",
    "        except:\n",
    "            pass\n",
    "\n",
    "# 前のセルで書き出したflask_app.pyを実行\n",
    "import subprocess\n",
    "import sys\n",
    "\n",
    "# Colab環境ではpopenの引数にshell=Trueを指定するとうまくいかない？\n",
    "try:\n",
    "    import google.colab  # type: ignore\n",
    "    shell_flag = False\n",
    "except ImportError:\n",
    "    shell_flag = True\n",
    "\n",
    "# サーバーを起動\n",
    "print(\"Starting the server...\")\n",
    "server_process = subprocess.Popen([py_name, \"flask_app.py\"], shell=shell_flag, text=True, stdout=subprocess.PIPE, stderr=subprocess.PIPE)\n",
    "\n",
    "time.sleep(5)\n",
    "\n",
    "if server_process.poll() is not None:\n",
    "    print(\"Failed to start the server.\")\n",
    "    print(server_process.stdout.read())\n",
    "    print(server_process.stderr.read())\n",
    "else:\n",
    "    print(\"The server is running.\")\n",
    "    print(f\"URL: {server_url}\")"
   ]
  },
  {
   "cell_type": "markdown",
   "metadata": {},
   "source": [
    "# 実行結果"
   ]
  },
  {
   "cell_type": "code",
   "execution_count": 18,
   "metadata": {},
   "outputs": [
    {
     "data": {
      "text/html": [
       "\n",
       "        <iframe\n",
       "            width=\"100%\"\n",
       "            height=\"500\"\n",
       "            src=\"http://localhost:5000/\"\n",
       "            frameborder=\"0\"\n",
       "            allowfullscreen\n",
       "            \n",
       "        ></iframe>\n",
       "        "
      ],
      "text/plain": [
       "<IPython.lib.display.IFrame at 0x17d943eb500>"
      ]
     },
     "execution_count": 18,
     "metadata": {},
     "output_type": "execute_result"
    }
   ],
   "source": [
    "import IPython\n",
    "\n",
    "IPython.display.IFrame(src=f\"{server_url}/\", width=\"100%\", height=500)"
   ]
  }
 ],
 "metadata": {
  "kernelspec": {
   "display_name": ".venv",
   "language": "python",
   "name": "python3"
  },
  "language_info": {
   "codemirror_mode": {
    "name": "ipython",
    "version": 3
   },
   "file_extension": ".py",
   "mimetype": "text/x-python",
   "name": "python",
   "nbconvert_exporter": "python",
   "pygments_lexer": "ipython3",
   "version": "3.12.3"
  }
 },
 "nbformat": 4,
 "nbformat_minor": 2
}
